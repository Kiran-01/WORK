{
  "nbformat": 4,
  "nbformat_minor": 0,
  "metadata": {
    "kernelspec": {
      "name": "python3",
      "display_name": "Python 3",
      "language": "python"
    },
    "language_info": {
      "name": "python",
      "version": "3.6.7",
      "mimetype": "text/x-python",
      "codemirror_mode": {
        "name": "ipython",
        "version": 3
      },
      "pygments_lexer": "ipython3",
      "nbconvert_exporter": "python",
      "file_extension": ".py"
    },
    "colab": {
      "name": " Analyze Your Runkeeper Fitness Data.ipynb",
      "provenance": [],
      "collapsed_sections": [],
      "include_colab_link": true
    }
  },
  "cells": [
    {
      "cell_type": "markdown",
      "metadata": {
        "id": "view-in-github",
        "colab_type": "text"
      },
      "source": [
        "<a href=\"https://colab.research.google.com/github/Kiran-01/WORK/blob/main/Analyze_Your_Runkeeper_Fitness_Data.ipynb\" target=\"_parent\"><img src=\"https://colab.research.google.com/assets/colab-badge.svg\" alt=\"Open In Colab\"/></a>"
      ]
    },
    {
      "cell_type": "markdown",
      "metadata": {
        "dc": {
          "key": "4"
        },
        "deletable": false,
        "editable": false,
        "run_control": {
          "frozen": true
        },
        "tags": [
          "context"
        ],
        "id": "yeGXZeMCaeHs"
      },
      "source": [
        "## 1. Obtain and review raw data\n",
        "<p>One day, my old running friend and I were chatting about our running styles, training habits, and achievements, when I suddenly realized that I could take an in-depth analytical look at my training. I have been using a popular GPS fitness tracker called <a href=\"https://runkeeper.com/\">Runkeeper</a> for years and decided it was time to analyze my running data to see how I was doing.</p>\n",
        "<p>Since 2012, I've been using the Runkeeper app, and it's great. One key feature: its excellent data export. Anyone who has a smartphone can download the app and analyze their data like we will in this notebook.</p>\n",
        "<p><img src=\"https://assets.datacamp.com/production/project_727/img/runner_in_blue.jpg\" alt=\"Runner in blue\" title=\"Explore world, explore your data!\"></p>\n",
        "<p>After logging your run, the first step is to export the data from Runkeeper (which I've done already). Then import the data and start exploring to find potential problems. After that, create data cleaning strategies to fix the issues. Finally, analyze and visualize the clean time-series data.</p>\n",
        "<p>I exported seven years worth of my training data, from 2012 through 2018. The data is a CSV file where each row is a single training activity. Let's load and inspect it.</p>"
      ]
    },
    {
      "cell_type": "code",
      "metadata": {
        "dc": {
          "key": "4"
        },
        "tags": [
          "sample_code"
        ],
        "trusted": true,
        "id": "vRMaRLPRaeIE",
        "colab": {
          "base_uri": "https://localhost:8080/",
          "height": 1000
        },
        "outputId": "13c0e487-a285-4a71-fea4-fe89def370c0"
      },
      "source": [
        "# Import pandas\n",
        "# ... YOUR CODE FOR TASK 1 ...\n",
        "import pandas as pd\n",
        "# Define file containing dataset\n",
        "runkeeper_file = 'cardioActivities.csv'\n",
        " \n",
        "# Create DataFrame with parse_dates and index_col parameters \n",
        "df_activities = pd.read_csv(runkeeper_file, parse_dates = True, index_col = 'Date')\n",
        " \n",
        "# First look at exported data: select sample of 3 random rows \n",
        "display(df_activities.sample(n=3))\n",
        " \n",
        "# Print DataFrame summary\n",
        "# ... YOUR CODE FOR TASK 1 ...\n",
        "df_activities.info()"
      ],
      "execution_count": null,
      "outputs": [
        {
          "output_type": "display_data",
          "data": {
            "text/html": [
              "<div>\n",
              "<style scoped>\n",
              "    .dataframe tbody tr th:only-of-type {\n",
              "        vertical-align: middle;\n",
              "    }\n",
              "\n",
              "    .dataframe tbody tr th {\n",
              "        vertical-align: top;\n",
              "    }\n",
              "\n",
              "    .dataframe thead th {\n",
              "        text-align: right;\n",
              "    }\n",
              "</style>\n",
              "<table border=\"1\" class=\"dataframe\">\n",
              "  <thead>\n",
              "    <tr style=\"text-align: right;\">\n",
              "      <th></th>\n",
              "      <th>Activity Id</th>\n",
              "      <th>Type</th>\n",
              "      <th>Route Name</th>\n",
              "      <th>Distance (km)</th>\n",
              "      <th>Duration</th>\n",
              "      <th>Average Pace</th>\n",
              "      <th>Average Speed (km/h)</th>\n",
              "      <th>Calories Burned</th>\n",
              "      <th>Climb (m)</th>\n",
              "      <th>Average Heart Rate (bpm)</th>\n",
              "      <th>Friend's Tagged</th>\n",
              "      <th>Notes</th>\n",
              "      <th>GPX File</th>\n",
              "    </tr>\n",
              "    <tr>\n",
              "      <th>Date</th>\n",
              "      <th></th>\n",
              "      <th></th>\n",
              "      <th></th>\n",
              "      <th></th>\n",
              "      <th></th>\n",
              "      <th></th>\n",
              "      <th></th>\n",
              "      <th></th>\n",
              "      <th></th>\n",
              "      <th></th>\n",
              "      <th></th>\n",
              "      <th></th>\n",
              "      <th></th>\n",
              "    </tr>\n",
              "  </thead>\n",
              "  <tbody>\n",
              "    <tr>\n",
              "      <th>5/1/2017 17:38</th>\n",
              "      <td>9a5c1022-08f3-4c9b-9cc5-492d4d7178f9</td>\n",
              "      <td>Cycling</td>\n",
              "      <td>NaN</td>\n",
              "      <td>20.19</td>\n",
              "      <td>54:29:00</td>\n",
              "      <td>2:42</td>\n",
              "      <td>22.24</td>\n",
              "      <td>491.000000</td>\n",
              "      <td>204.0</td>\n",
              "      <td>135.0</td>\n",
              "      <td>NaN</td>\n",
              "      <td>TomTom MySports Watch</td>\n",
              "      <td>2017-05-01-173835.gpx</td>\n",
              "    </tr>\n",
              "    <tr>\n",
              "      <th>1/23/2017 18:39</th>\n",
              "      <td>9a35d26a-e947-4374-b411-a28c07f0b153</td>\n",
              "      <td>Running</td>\n",
              "      <td>NaN</td>\n",
              "      <td>11.98</td>\n",
              "      <td>1:07:49</td>\n",
              "      <td>5:40</td>\n",
              "      <td>10.60</td>\n",
              "      <td>849.999999</td>\n",
              "      <td>100.0</td>\n",
              "      <td>150.0</td>\n",
              "      <td>NaN</td>\n",
              "      <td>TomTom MySports Watch</td>\n",
              "      <td>2017-01-23-183910.gpx</td>\n",
              "    </tr>\n",
              "    <tr>\n",
              "      <th>1/21/2018 11:46</th>\n",
              "      <td>2a24b579-7365-49da-a4e4-67c13d097e39</td>\n",
              "      <td>Running</td>\n",
              "      <td>NaN</td>\n",
              "      <td>10.52</td>\n",
              "      <td>1:00:59</td>\n",
              "      <td>5:48</td>\n",
              "      <td>10.35</td>\n",
              "      <td>744.000000</td>\n",
              "      <td>153.0</td>\n",
              "      <td>154.0</td>\n",
              "      <td>NaN</td>\n",
              "      <td>TomTom MySports Watch</td>\n",
              "      <td>2018-01-21-114612.gpx</td>\n",
              "    </tr>\n",
              "  </tbody>\n",
              "</table>\n",
              "</div>"
            ],
            "text/plain": [
              "                                          Activity Id  ...               GPX File\n",
              "Date                                                   ...                       \n",
              "5/1/2017 17:38   9a5c1022-08f3-4c9b-9cc5-492d4d7178f9  ...  2017-05-01-173835.gpx\n",
              "1/23/2017 18:39  9a35d26a-e947-4374-b411-a28c07f0b153  ...  2017-01-23-183910.gpx\n",
              "1/21/2018 11:46  2a24b579-7365-49da-a4e4-67c13d097e39  ...  2018-01-21-114612.gpx\n",
              "\n",
              "[3 rows x 13 columns]"
            ]
          },
          "metadata": {
            "tags": []
          }
        },
        {
          "output_type": "stream",
          "text": [
            "<class 'pandas.core.frame.DataFrame'>\n",
            "Index: 509 entries, 11/11/2018 14:05 to I was feeling sick\n",
            "Data columns (total 13 columns):\n",
            " #   Column                    Non-Null Count  Dtype  \n",
            "---  ------                    --------------  -----  \n",
            " 0   Activity Id               508 non-null    object \n",
            " 1   Type                      508 non-null    object \n",
            " 2   Route Name                1 non-null      object \n",
            " 3   Distance (km)             508 non-null    float64\n",
            " 4   Duration                  508 non-null    object \n",
            " 5   Average Pace              508 non-null    object \n",
            " 6   Average Speed (km/h)      508 non-null    float64\n",
            " 7   Calories Burned           508 non-null    float64\n",
            " 8   Climb (m)                 508 non-null    float64\n",
            " 9   Average Heart Rate (bpm)  294 non-null    float64\n",
            " 10  Friend's Tagged           0 non-null      float64\n",
            " 11  Notes                     230 non-null    object \n",
            " 12  GPX File                  504 non-null    object \n",
            "dtypes: float64(6), object(7)\n",
            "memory usage: 55.7+ KB\n"
          ],
          "name": "stdout"
        }
      ]
    },
    {
      "cell_type": "markdown",
      "metadata": {
        "dc": {
          "key": "12"
        },
        "deletable": false,
        "editable": false,
        "run_control": {
          "frozen": true
        },
        "tags": [
          "context"
        ],
        "id": "yACOO4-1aeIL"
      },
      "source": [
        "## 2. Data preprocessing\n",
        "<p>Lucky for us, the column names Runkeeper provides are informative, and we don't need to rename any columns.</p>\n",
        "<p>But, we do notice missing values using the <code>info()</code> method. What are the reasons for these missing values? It depends. Some heart rate information is missing because I didn't always use a cardio sensor. In the case of the <code>Notes</code> column, it is an optional field that I sometimes left blank. Also, I only used the <code>Route Name</code> column once, and never used the <code>Friend's Tagged</code> column.</p>\n",
        "<p>We'll fill in missing values in the heart rate column to avoid misleading results later, but right now, our first data preprocessing steps will be to:</p>\n",
        "<ul>\n",
        "<li>Remove columns not useful for our analysis.</li>\n",
        "<li>Replace the \"Other\" activity type to \"Unicycling\" because that was always the \"Other\" activity.</li>\n",
        "<li>Count missing values.</li>\n",
        "</ul>"
      ]
    },
    {
      "cell_type": "code",
      "metadata": {
        "dc": {
          "key": "12"
        },
        "tags": [
          "sample_code"
        ],
        "trusted": true,
        "id": "RuAdUC1SaeIP",
        "colab": {
          "base_uri": "https://localhost:8080/",
          "height": 593
        },
        "outputId": "55187e75-568e-40b1-9ed9-a5dc8e94588d"
      },
      "source": [
        "# Define list of columns to be deleted\n",
        "cols_to_drop = ['Friend\\'s Tagged','Route Name','GPX File','Activity Id','Calories Burned', 'Notes']\n",
        "\n",
        "# Delete unnecessary columns\n",
        "# ... YOUR CODE FOR TASK 2 ...\n",
        "df_activities = df_activities.drop(columns=cols_to_drop)\n",
        "# Count types of training activities\n",
        "display(df_activities.Type.value_counts())\n",
        "\n",
        "# Rename 'Other' type to 'Unicycling'\n",
        "df_activities['Type'] =df_activities['Type'].str.replace('Other' ,'Unicycling' )\n",
        "\n",
        "# Count missing values for each column\n",
        "# ... YOUR CODE FOR TASK 2 ...\n",
        "df_activities.isnull().sum()"
      ],
      "execution_count": null,
      "outputs": [
        {
          "output_type": "display_data",
          "data": {
            "text/plain": [
              "Running    459\n",
              "Cycling     29\n",
              "Walking     18\n",
              "Other        2\n",
              "Name: Type, dtype: int64"
            ]
          },
          "metadata": {
            "tags": []
          }
        },
        {
          "output_type": "execute_result",
          "data": {
            "text/plain": [
              "Type                          1\n",
              "Distance (km)                 1\n",
              "Duration                      1\n",
              "Average Pace                  1\n",
              "Average Speed (km/h)          1\n",
              "Climb (m)                     1\n",
              "Average Heart Rate (bpm)    215\n",
              "dtype: int64"
            ]
          },
          "metadata": {
            "tags": []
          },
          "execution_count": 2
        }
      ]
    },
    {
      "cell_type": "markdown",
      "metadata": {
        "dc": {
          "key": "19"
        },
        "deletable": false,
        "editable": false,
        "run_control": {
          "frozen": true
        },
        "tags": [
          "context"
        ],
        "id": "amj4KSZEaeIR"
      },
      "source": [
        "## 3. Dealing with missing values\n",
        "<p>As we can see from the last output, there are 214 missing entries for my average heart rate.</p>\n",
        "<p>We can't go back in time to get those data, but we can fill in the missing values with an average value. This process is called <em>mean imputation</em>. When imputing the mean to fill in missing data, we need to consider that the average heart rate varies for different activities (e.g., walking vs. running). We'll filter the DataFrames by activity type (<code>Type</code>) and calculate each activity's mean heart rate, then fill in the missing values with those means.</p>"
      ]
    },
    {
      "cell_type": "code",
      "metadata": {
        "dc": {
          "key": "19"
        },
        "tags": [
          "sample_code"
        ],
        "trusted": true,
        "id": "13MiU8KaaeIU",
        "colab": {
          "base_uri": "https://localhost:8080/"
        },
        "outputId": "08f5412d-001a-43e3-a031-50da23ee58f6"
      },
      "source": [
        "# Calculate sample means for heart rate for each training activity type \n",
        "avg_hr_run = df_activities[df_activities['Type'] == 'Running']['Average Heart Rate (bpm)'].mean()\n",
        "avg_hr_cycle = df_activities[df_activities['Type'] == 'Cycling' ]['Average Heart Rate (bpm)'].mean()\n",
        "\n",
        "\n",
        "# Split whole DataFrame into several, specific for different activities\n",
        "df_run = df_activities[df_activities['Type'] == 'Running'].copy()\n",
        "df_walk = df_activities[df_activities['Type'] == 'Walking'].copy()\n",
        "df_cycle = df_activities[df_activities['Type'] == 'Cycling' ].copy()\n",
        "\n",
        "# Filling missing values with counted means  \n",
        "df_walk['Average Heart Rate (bpm)'].fillna(110, inplace=True)\n",
        "df_run['Average Heart Rate (bpm)'].fillna(int(avg_hr_run), inplace=True)\n",
        "# ... YOUR CODE FOR TASK 3 ...\n",
        "df_cycle['Average Heart Rate (bpm)'].fillna(int(avg_hr_cycle), inplace=True)\n",
        "# Count missing values for each column in running data\n",
        "# ... YOUR CODE FOR TASK 3 ...\n",
        "df_run.isnull().sum()"
      ],
      "execution_count": null,
      "outputs": [
        {
          "output_type": "execute_result",
          "data": {
            "text/plain": [
              "Type                        0\n",
              "Distance (km)               0\n",
              "Duration                    0\n",
              "Average Pace                0\n",
              "Average Speed (km/h)        0\n",
              "Climb (m)                   0\n",
              "Average Heart Rate (bpm)    0\n",
              "dtype: int64"
            ]
          },
          "metadata": {
            "tags": []
          },
          "execution_count": 3
        }
      ]
    },
    {
      "cell_type": "markdown",
      "metadata": {
        "dc": {
          "key": "26"
        },
        "deletable": false,
        "editable": false,
        "run_control": {
          "frozen": true
        },
        "tags": [
          "context"
        ],
        "id": "KFPzkOclaeIX"
      },
      "source": [
        "## 4. Plot running data\n",
        "<p>Now we can create our first plot! As we found earlier, most of the activities in my data were running (459 of them to be exact). There are only 29, 18, and two instances for cycling, walking, and unicycling, respectively. So for now, let's focus on plotting the different running metrics.</p>\n",
        "<p>An excellent first visualization is a figure with four subplots, one for each running metric (each numerical column). Each subplot will have a different y-axis, which is explained in each legend. The x-axis, <code>Date</code>, is shared among all subplots.</p>"
      ]
    },
    {
      "cell_type": "code",
      "metadata": {
        "dc": {
          "key": "26"
        },
        "tags": [
          "sample_code"
        ],
        "trusted": true,
        "id": "Y6D05dJaaeIZ",
        "colab": {
          "base_uri": "https://localhost:8080/",
          "height": 925
        },
        "outputId": "de371e4a-0bb6-4e43-bdb5-46921373a6b8"
      },
      "source": [
        "%matplotlib inline\n",
        "\n",
        "# Import matplotlib, set style and ignore warning\n",
        "import matplotlib.pyplot as plt\n",
        "%matplotlib inline\n",
        "import warnings\n",
        "plt.style.use('ggplot')\n",
        "warnings.filterwarnings(\n",
        "    action='ignore', module='matplotlib.figure', category=UserWarning,\n",
        "    message=('This figure includes Axes that are not compatible with tight_layout, so results might be incorrect.')\n",
        ")\n",
        "\n",
        "# Prepare data subsetting period from 2013 till 2018\n",
        "runs_subset_2013_2018 = df_run.loc[(df_run.index >= '2013') & (df_run.index < '2019')]\n",
        "\n",
        "# Create, plot and customize in one step\n",
        "runs_subset_2013_2018.plot(subplots=True,\n",
        "                           sharex=False,\n",
        "                           figsize=(12,16),\n",
        "                           linestyle='none',\n",
        "                           marker='o',\n",
        "                           markersize=3,\n",
        "                          )\n",
        "\n",
        "# Show plot\n",
        "# ... YOUR CODE FOR TASK 4 ...\n",
        "plt.show()"
      ],
      "execution_count": null,
      "outputs": [
        {
          "output_type": "display_data",
          "data": {
            "image/png": "[encoded data removed]",
            "text/plain": [
              "<Figure size 864x1152 with 4 Axes>"
            ]
          },
          "metadata": {
            "tags": []
          }
        }
      ]
    },
    {
      "cell_type": "markdown",
      "metadata": {
        "dc": {
          "key": "33"
        },
        "deletable": false,
        "editable": false,
        "run_control": {
          "frozen": true
        },
        "tags": [
          "context"
        ],
        "id": "fZUFgX8uaeIc"
      },
      "source": [
        "## 5. Running statistics\n",
        "<p>No doubt, running helps people stay mentally and physically healthy and productive at any age. And it is great fun! When runners talk to each other about their hobby, we not only discuss our results, but we also discuss different training strategies. </p>\n",
        "<p>You'll know you're with a group of runners if you commonly hear questions like:</p>\n",
        "<ul>\n",
        "<li>What is your average distance?</li>\n",
        "<li>How fast do you run?</li>\n",
        "<li>Do you measure your heart rate?</li>\n",
        "<li>How often do you train?</li>\n",
        "</ul>\n",
        "<p>Let's find the answers to these questions in my data. If you look back at plots in Task 4, you can see the answer to, <em>Do you measure your heart rate?</em> Before 2015: no. To look at the averages, let's only use the data from 2015 through 2018.</p>\n",
        "<p>In pandas, the <code>resample()</code> method is similar to the <code>groupby()</code> method - with <code>resample()</code> you group by a specific time span. We'll use <code>resample()</code> to group the time series data by a sampling period and apply several methods to each sampling period. In our case, we'll resample annually and weekly.</p>"
      ]
    },
    {
      "cell_type": "code",
      "metadata": {
        "dc": {
          "key": "33"
        },
        "tags": [
          "sample_code"
        ],
        "trusted": true,
        "id": "WNWI5Yn_aeIh",
        "colab": {
          "base_uri": "https://localhost:8080/",
          "height": 1000
        },
        "outputId": "bf5106d3-8669-4267-abdf-be241557cf3b"
      },
      "source": [
        "# Prepare running data for the last 4 years\n",
        "runs_subset_2015_2018 = df_run.loc[(df_run.index >= '2015') & (df_run.index < '2019')]\n",
        "\n",
        "# Calculate annual statistics\n",
        "print('How my average run looks in last 4 years:')\n",
        "display(runs_subset_2015_2018.resample('A').mean())\n",
        "\n",
        "# Calculate weekly statistics\n",
        "print('Weekly averages of last 4 years:')\n",
        "display(runs_subset_2015_2018.resample('W').mean().mean())\n",
        "\n",
        "# Mean weekly counts\n",
        "weekly_counts_average = runs_subset_2015_2018['Distance (km)'].resample('W').count().mean()\n",
        "print('How many trainings per week I had on average:', weekly_counts_average)"
      ],
      "execution_count": null,
      "outputs": [
        {
          "output_type": "stream",
          "text": [
            "How my average run looks in last 4 years:\n"
          ],
          "name": "stdout"
        },
        {
          "output_type": "error",
          "ename": "TypeError",
          "evalue": "ignored",
          "traceback": [
            "\u001b[0;31m---------------------------------------------------------------------------\u001b[0m",
            "\u001b[0;31mTypeError\u001b[0m                                 Traceback (most recent call last)",
            "\u001b[0;32m<ipython-input-5-ef8ebc5c6c30>\u001b[0m in \u001b[0;36m<module>\u001b[0;34m()\u001b[0m\n\u001b[1;32m      4\u001b[0m \u001b[0;31m# Calculate annual statistics\u001b[0m\u001b[0;34m\u001b[0m\u001b[0;34m\u001b[0m\u001b[0;34m\u001b[0m\u001b[0m\n\u001b[1;32m      5\u001b[0m \u001b[0mprint\u001b[0m\u001b[0;34m(\u001b[0m\u001b[0;34m'How my average run looks in last 4 years:'\u001b[0m\u001b[0;34m)\u001b[0m\u001b[0;34m\u001b[0m\u001b[0;34m\u001b[0m\u001b[0m\n\u001b[0;32m----> 6\u001b[0;31m \u001b[0mdisplay\u001b[0m\u001b[0;34m(\u001b[0m\u001b[0mruns_subset_2015_2018\u001b[0m\u001b[0;34m.\u001b[0m\u001b[0mresample\u001b[0m\u001b[0;34m(\u001b[0m\u001b[0;34m'A'\u001b[0m\u001b[0;34m)\u001b[0m\u001b[0;34m.\u001b[0m\u001b[0mmean\u001b[0m\u001b[0;34m(\u001b[0m\u001b[0;34m)\u001b[0m\u001b[0;34m)\u001b[0m\u001b[0;34m\u001b[0m\u001b[0;34m\u001b[0m\u001b[0m\n\u001b[0m\u001b[1;32m      7\u001b[0m \u001b[0;34m\u001b[0m\u001b[0m\n\u001b[1;32m      8\u001b[0m \u001b[0;31m# Calculate weekly statistics\u001b[0m\u001b[0;34m\u001b[0m\u001b[0;34m\u001b[0m\u001b[0;34m\u001b[0m\u001b[0m\n",
            "\u001b[0;32m/usr/local/lib/python3.7/dist-packages/pandas/core/generic.py\u001b[0m in \u001b[0;36mresample\u001b[0;34m(self, rule, axis, closed, label, convention, kind, loffset, base, on, level, origin, offset)\u001b[0m\n\u001b[1;32m   8094\u001b[0m             \u001b[0mlevel\u001b[0m\u001b[0;34m=\u001b[0m\u001b[0mlevel\u001b[0m\u001b[0;34m,\u001b[0m\u001b[0;34m\u001b[0m\u001b[0;34m\u001b[0m\u001b[0m\n\u001b[1;32m   8095\u001b[0m             \u001b[0morigin\u001b[0m\u001b[0;34m=\u001b[0m\u001b[0morigin\u001b[0m\u001b[0;34m,\u001b[0m\u001b[0;34m\u001b[0m\u001b[0;34m\u001b[0m\u001b[0m\n\u001b[0;32m-> 8096\u001b[0;31m             \u001b[0moffset\u001b[0m\u001b[0;34m=\u001b[0m\u001b[0moffset\u001b[0m\u001b[0;34m,\u001b[0m\u001b[0;34m\u001b[0m\u001b[0;34m\u001b[0m\u001b[0m\n\u001b[0m\u001b[1;32m   8097\u001b[0m         )\n\u001b[1;32m   8098\u001b[0m \u001b[0;34m\u001b[0m\u001b[0m\n",
            "\u001b[0;32m/usr/local/lib/python3.7/dist-packages/pandas/core/resample.py\u001b[0m in \u001b[0;36mget_resampler\u001b[0;34m(obj, kind, **kwds)\u001b[0m\n\u001b[1;32m   1268\u001b[0m     \"\"\"\n\u001b[1;32m   1269\u001b[0m     \u001b[0mtg\u001b[0m \u001b[0;34m=\u001b[0m \u001b[0mTimeGrouper\u001b[0m\u001b[0;34m(\u001b[0m\u001b[0;34m**\u001b[0m\u001b[0mkwds\u001b[0m\u001b[0;34m)\u001b[0m\u001b[0;34m\u001b[0m\u001b[0;34m\u001b[0m\u001b[0m\n\u001b[0;32m-> 1270\u001b[0;31m     \u001b[0;32mreturn\u001b[0m \u001b[0mtg\u001b[0m\u001b[0;34m.\u001b[0m\u001b[0m_get_resampler\u001b[0m\u001b[0;34m(\u001b[0m\u001b[0mobj\u001b[0m\u001b[0;34m,\u001b[0m \u001b[0mkind\u001b[0m\u001b[0;34m=\u001b[0m\u001b[0mkind\u001b[0m\u001b[0;34m)\u001b[0m\u001b[0;34m\u001b[0m\u001b[0;34m\u001b[0m\u001b[0m\n\u001b[0m\u001b[1;32m   1271\u001b[0m \u001b[0;34m\u001b[0m\u001b[0m\n\u001b[1;32m   1272\u001b[0m \u001b[0;34m\u001b[0m\u001b[0m\n",
            "\u001b[0;32m/usr/local/lib/python3.7/dist-packages/pandas/core/resample.py\u001b[0m in \u001b[0;36m_get_resampler\u001b[0;34m(self, obj, kind)\u001b[0m\n\u001b[1;32m   1434\u001b[0m \u001b[0;34m\u001b[0m\u001b[0m\n\u001b[1;32m   1435\u001b[0m         raise TypeError(\n\u001b[0;32m-> 1436\u001b[0;31m             \u001b[0;34m\"Only valid with DatetimeIndex, \"\u001b[0m\u001b[0;34m\u001b[0m\u001b[0;34m\u001b[0m\u001b[0m\n\u001b[0m\u001b[1;32m   1437\u001b[0m             \u001b[0;34m\"TimedeltaIndex or PeriodIndex, \"\u001b[0m\u001b[0;34m\u001b[0m\u001b[0;34m\u001b[0m\u001b[0m\n\u001b[1;32m   1438\u001b[0m             \u001b[0;34mf\"but got an instance of '{type(ax).__name__}'\"\u001b[0m\u001b[0;34m\u001b[0m\u001b[0;34m\u001b[0m\u001b[0m\n",
            "\u001b[0;31mTypeError\u001b[0m: Only valid with DatetimeIndex, TimedeltaIndex or PeriodIndex, but got an instance of 'Index'"
          ]
        }
      ]
    },
    {
      "cell_type": "markdown",
      "metadata": {
        "dc": {
          "key": "40"
        },
        "deletable": false,
        "editable": false,
        "run_control": {
          "frozen": true
        },
        "tags": [
          "context"
        ],
        "id": "HNevNDJ6aeIj"
      },
      "source": [
        "## 6. Visualization with averages\n",
        "<p>Let's plot the long term averages of my distance run and my heart rate with their raw data to visually compare the averages to each training session. Again, we'll use the data from 2015 through 2018.</p>\n",
        "<p>In this task, we will use <code>matplotlib</code> functionality for plot creation and customization.</p>"
      ]
    },
    {
      "cell_type": "code",
      "metadata": {
        "dc": {
          "key": "40"
        },
        "tags": [
          "sample_code"
        ],
        "trusted": true,
        "id": "PjkVXZCoaeIl"
      },
      "source": [
        "# Prepare data\n",
        "runs_subset_2015_2018 = df_run['2018':'2015']\n",
        "runs_distance = runs_subset_2015_2018['Distance (km)']\n",
        "runs_hr = runs_subset_2015_2018['Average Heart Rate (bpm)']\n",
        "\n",
        "# Create plot\n",
        "fig, (ax1, ax2) = plt.subplots(2,sharex= True, figsize = (12,8))\n",
        "\n",
        "# Plot and customize first subplot\n",
        "# ... YOUR CODE FOR TASK 6 ...\n",
        "runs_distance.plot(ax=ax1)\n",
        "ax1.set(ylabel='Distance (km)', title='Historical data with averages')\n",
        "ax1.axhline(runs_distance.mean(), color='blue', linewidth=1, linestyle='-.')\n",
        "\n",
        "# Plot and customize second subplot\n",
        "runs_hr.plot(ax=ax2, color='gray')\n",
        "ax2.set(xlabel='Date', ylabel='Average Heart Rate (bpm)')\n",
        "# ... YOUR CODE FOR TASK 6 ...\n",
        "ax2.axhline(runs_hr.mean(), color='blue', linewidth=1, linestyle='-.')\n",
        "# Show plot\n",
        "plt.show()"
      ],
      "execution_count": null,
      "outputs": []
    },
    {
      "cell_type": "markdown",
      "metadata": {
        "dc": {
          "key": "47"
        },
        "deletable": false,
        "editable": false,
        "run_control": {
          "frozen": true
        },
        "tags": [
          "context"
        ],
        "id": "mUkbZri-aeIn"
      },
      "source": [
        "## 7. Did I reach my goals?\n",
        "<p>To motivate myself to run regularly, I set a target goal of running 1000 km per year. Let's visualize my annual running distance (km) from 2013 through 2018 to see if I reached my goal each year. Only stars in the green region indicate success.</p>"
      ]
    },
    {
      "cell_type": "code",
      "metadata": {
        "dc": {
          "key": "47"
        },
        "tags": [
          "sample_code"
        ],
        "trusted": true,
        "id": "Jj8nlaDtaeIq"
      },
      "source": [
        "# Prepare data\n",
        "df_run_dist_annual = df_run['2018':'2013']['Distance (km)'].resample('A').sum()\n",
        "\n",
        "# Create plot\n",
        "fig = plt.figure(figsize=(8,5))\n",
        "\n",
        "# Plot and customize\n",
        "ax = df_run_dist_annual.plot(marker='*', markersize=14, linewidth=0, color='blue')\n",
        "ax.set(ylim=[0, 1210], \n",
        "       xlim=['2012','2019'],\n",
        "       ylabel='Distance (km)',\n",
        "       xlabel='Years',\n",
        "       title='Annual totals for distance')\n",
        "\n",
        "ax.axhspan(1000, 1210, color='green', alpha=0.4)\n",
        "ax.axhspan(800, 1000, color='yellow', alpha=0.3)\n",
        "# ... YOUR CODE FOR TASK 7 ...\n",
        "ax.axhspan(0, 800, color='red', alpha=0.2)\n",
        "# Show plot\n",
        "# ... YOUR CODE FOR TASK 7 ...\n",
        "plt.show()"
      ],
      "execution_count": null,
      "outputs": []
    },
    {
      "cell_type": "markdown",
      "metadata": {
        "dc": {
          "key": "54"
        },
        "deletable": false,
        "editable": false,
        "run_control": {
          "frozen": true
        },
        "tags": [
          "context"
        ],
        "id": "IKY15YjtaeIz"
      },
      "source": [
        "## 8. Am I progressing?\n",
        "<p>Let's dive a little deeper into the data to answer a tricky question: am I progressing in terms of my running skills? </p>\n",
        "<p>To answer this question, we'll decompose my weekly distance run and visually compare it to the raw data. A red trend line will represent the weekly distance run.</p>\n",
        "<p>We are going to use <code>statsmodels</code> library to decompose the weekly trend.</p>"
      ]
    },
    {
      "cell_type": "code",
      "metadata": {
        "dc": {
          "key": "54"
        },
        "tags": [
          "sample_code"
        ],
        "trusted": true,
        "id": "vdvE25pWaeI1"
      },
      "source": [
        "# Import required library\n",
        "# ... YOUR CODE FOR TASK 8 ...\n",
        "import statsmodels.api as sm\n",
        "# Prepare data\n",
        "df_run_dist_wkly = df_run['2018':'2013']['Distance (km)'].resample('W').bfill()\n",
        "decomposed = sm.tsa.seasonal_decompose(df_run_dist_wkly, extrapolate_trend=1, freq=52)\n",
        "\n",
        "# Create plot\n",
        "fig = plt.figure(figsize = (12,5))\n",
        "\n",
        "# Plot and customize\n",
        "ax = decomposed.trend.plot(label='Trend', linewidth=2)\n",
        "ax = decomposed.observed.plot(label='Observed', linewidth=0.5)\n",
        "\n",
        "ax.legend()\n",
        "ax.set_title('Running distance trend')\n",
        "\n",
        "# Show plot\n",
        "plt.show()"
      ],
      "execution_count": null,
      "outputs": []
    },
    {
      "cell_type": "markdown",
      "metadata": {
        "dc": {
          "key": "61"
        },
        "deletable": false,
        "editable": false,
        "run_control": {
          "frozen": true
        },
        "tags": [
          "context"
        ],
        "id": "_0uTqfsEaeI2"
      },
      "source": [
        "## 9. Training intensity\n",
        "<p>Heart rate is a popular metric used to measure training intensity. Depending on age and fitness level, heart rates are grouped into different zones that people can target depending on training goals. A target heart rate during moderate-intensity activities is about 50-70% of maximum heart rate, while during vigorous physical activity it’s about 70-85% of maximum.</p>\n",
        "<p>We'll create a distribution plot of my heart rate data by training intensity. It will be a visual presentation for the number of activities from predefined training zones. </p>"
      ]
    },
    {
      "cell_type": "code",
      "metadata": {
        "dc": {
          "key": "61"
        },
        "tags": [
          "sample_code"
        ],
        "trusted": true,
        "id": "Ze5lEn3jaeI4"
      },
      "source": [
        "# Prepare data\n",
        "hr_zones = [100, 125, 133, 142, 151, 173]\n",
        "zone_names = ['Easy', 'Moderate', 'Hard', 'Very hard', 'Maximal']\n",
        "zone_colors = ['green', 'yellow', 'orange', 'tomato', 'red']\n",
        "df_run_hr_all = df_run['2018':'2015-03']['Average Heart Rate (bpm)']\n",
        "\n",
        "# Create plot\n",
        "fig, ax =plt.subplots(figsize = (8,5))\n",
        "\n",
        "# Plot and customize\n",
        "n, bins, patches = ax.hist(df_run_hr_all, bins=hr_zones, alpha=0.5)\n",
        "for i in range(0, len(patches)):\n",
        "    patches[i].set_facecolor(zone_colors[i])\n",
        "\n",
        "ax.set(title='Distribution of HR', ylabel='Number of runs')\n",
        "ax.xaxis.set(ticks=hr_zones)\n",
        "# ... YOUR CODE FOR TASK 9 ...\n",
        "ax.set_xticklabels(labels =zone_names, rotation = -30, ha = 'left')\n",
        "# Show plot\n",
        "# ... YOUR CODE FOR TASK 8 ...\n",
        "plt.show()"
      ],
      "execution_count": null,
      "outputs": []
    },
    {
      "cell_type": "markdown",
      "metadata": {
        "dc": {
          "key": "68"
        },
        "deletable": false,
        "editable": false,
        "run_control": {
          "frozen": true
        },
        "tags": [
          "context"
        ],
        "id": "CIpjdD0OaeI6"
      },
      "source": [
        "## 10. Detailed summary report\n",
        "<p>With all this data cleaning, analysis, and visualization, let's create detailed summary tables of my training. </p>\n",
        "<p>To do this, we'll create two tables. The first table will be a summary of the distance (km) and climb (m) variables for each training activity. The second table will list the summary statistics for the average speed (km/hr), climb (m), and distance (km) variables for each training activity.</p>"
      ]
    },
    {
      "cell_type": "code",
      "metadata": {
        "dc": {
          "key": "68"
        },
        "tags": [
          "sample_code"
        ],
        "trusted": true,
        "id": "jv5Byux3aeI7"
      },
      "source": [
        "# Concatenating three DataFrames\n",
        "df_run_walk_cycle = df_run.append([df_walk , df_cycle]).sort_index(ascending = False)\n",
        "\n",
        "dist_climb_cols, speed_col = ['Distance (km)', 'Climb (m)'], ['Average Speed (km/h)']\n",
        "\n",
        "# Calculating total distance and climb in each type of activities\n",
        "df_totals = df_run_walk_cycle.groupby('Type')['dist_climb_cols'].sum()\n",
        "\n",
        "print('Totals for different training types:')\n",
        "display(df_totals)\n",
        "\n",
        "# Calculating summary statistics for each type of activities \n",
        "df_summary = df_run_walk_cycle.groupby('Type')[dist_climb_cols + speed_col].describe()\n",
        "\n",
        "# Combine totals with summary\n",
        "for i in dist_climb_cols:\n",
        "    df_summary[i, 'total'] = df_totals[i]\n",
        "\n",
        "print('Summary statistics for different training types:')\n",
        "# ... YOUR CODE FOR TASK 10 ...\n",
        "df_summary.stack()"
      ],
      "execution_count": null,
      "outputs": []
    },
    {
      "cell_type": "markdown",
      "metadata": {
        "dc": {
          "key": "75"
        },
        "deletable": false,
        "editable": false,
        "run_control": {
          "frozen": true
        },
        "tags": [
          "context"
        ],
        "id": "A_QQjOUqaeI8"
      },
      "source": [
        "## 11. Fun facts\n",
        "<p>To wrap up, let’s pick some fun facts out of the summary tables and solve the last exercise.</p>\n",
        "<p>These data (my running history) represent 6 years, 2 months and 21 days. And I remember how many running shoes I went through–7.</p>\n",
        "<pre><code>FUN FACTS\n",
        "- Average distance: 11.38 km\n",
        "- Longest distance: 38.32 km\n",
        "- Highest climb: 982 m\n",
        "- Total climb: 57,278 m\n",
        "- Total number of km run: 5,224 km\n",
        "- Total runs: 459\n",
        "- Number of running shoes gone through: 7 pairs\n",
        "</code></pre>\n",
        "<p>The story of Forrest Gump is well known–the man, who for no particular reason decided to go for a \"little run.\" His epic run duration was 3 years, 2 months and 14 days (1169 days). In the picture you can see Forrest’s route of 24,700 km.  </p>\n",
        "<pre><code>FORREST RUN FACTS\n",
        "- Average distance: 21.13 km\n",
        "- Total number of km run: 24,700 km\n",
        "- Total runs: 1169\n",
        "- Number of running shoes gone through: ...\n",
        "</code></pre>\n",
        "<p>Assuming Forest and I go through running shoes at the same rate, figure out how many pairs of shoes Forrest needed for his run.</p>\n",
        "<p><img src=\"https://assets.datacamp.com/production/project_727/img/Forrest_Gump_running_route.png\" alt=\"Forrest's route\" title=\"Little run of Forrest Gump\"></p>"
      ]
    },
    {
      "cell_type": "code",
      "metadata": {
        "dc": {
          "key": "75"
        },
        "tags": [
          "sample_code"
        ],
        "trusted": true,
        "collapsed": true,
        "id": "YTLinTmkaeI-"
      },
      "source": [
        "# Count average shoes per lifetime (as km per pair) using our fun facts\n",
        "average_shoes_lifetime = ...\n",
        "\n",
        "# Count number of shoes for Forrest's run distance\n",
        "shoes_for_forrest_run = ...\n",
        "\n",
        "print('Forrest Gump would need {} pairs of shoes!'.format(shoes_for_forrest_run))"
      ],
      "execution_count": null,
      "outputs": []
    }
  ]
}